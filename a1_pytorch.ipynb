{
  "nbformat": 4,
  "nbformat_minor": 0,
  "metadata": {
    "accelerator": "GPU",
    "colab": {
      "name": "a1_pytorch.ipynb",
      "version": "0.3.2",
      "provenance": [],
      "collapsed_sections": [],
      "toc_visible": true
    },
    "kernelspec": {
      "display_name": "Python 3",
      "language": "python",
      "name": "python3"
    },
    "language_info": {
      "codemirror_mode": {
        "name": "ipython",
        "version": 3
      },
      "file_extension": ".py",
      "mimetype": "text/x-python",
      "name": "python",
      "nbconvert_exporter": "python",
      "pygments_lexer": "ipython3",
      "version": "3.7.1"
    }
  },
  "cells": [
    {
      "cell_type": "markdown",
      "metadata": {
        "colab_type": "text",
        "id": "GbaoBUZtlkvu"
      },
      "source": [
        "*Notebook conventions:*\n",
        "\n",
        "* <font color=\"red\">assignment problem</font>. The red color indicates the task that should be done\n",
        "* <font color=\"green\">debugging</font>. The green tells you what is expected outcome. Its primarily goal is to help you get the correct answer\n",
        "* <font color=\"blue\">comments, hints</font>.\n",
        "\n",
        "Assignment 1 (pytorch basics)\n",
        "======================\n",
        "\n"
      ]
    },
    {
      "cell_type": "markdown",
      "metadata": {
        "colab_type": "text",
        "id": "637S0mjilkvv"
      },
      "source": [
        "![pytorch](https://upload.wikimedia.org/wikipedia/commons/9/96/Pytorch_logo.png)"
      ]
    },
    {
      "cell_type": "markdown",
      "metadata": {
        "colab_type": "text",
        "id": "-aEaNoZtlkvw"
      },
      "source": [
        "#### Useful Links:\n",
        "\n",
        "* pytorch official documentation\n",
        "http://pytorch.org/docs/master/index.html\n",
        "\n",
        "* pytorch discussion\n",
        "https://discuss.pytorch.org/\n",
        "\n",
        "* pytorch official tutorials\n",
        "https://pytorch.org/tutorials/\n",
        "\n",
        "* pytorch tutorials (a bit more advance than official)\n",
        "https://github.com/yunjey/pytorch-tutorial\n",
        "\n",
        "* TODO: more?\n"
      ]
    },
    {
      "cell_type": "markdown",
      "metadata": {
        "colab_type": "text",
        "id": "yjTBYu_blkvx"
      },
      "source": [
        "### Preliminaries"
      ]
    },
    {
      "cell_type": "code",
      "metadata": {
        "colab_type": "code",
        "id": "agpPjG0Mlkv2",
        "colab": {}
      },
      "source": [
        "import numpy as np\n",
        "import torch\n",
        "import torchvision"
      ],
      "execution_count": 0,
      "outputs": []
    },
    {
      "cell_type": "code",
      "metadata": {
        "colab_type": "code",
        "id": "RKHlgFk8IUdT",
        "outputId": "b7ebbc98-d324-4220-914c-a0e165920242",
        "colab": {
          "base_uri": "https://localhost:8080/",
          "height": 68
        }
      },
      "source": [
        "# check versions\n",
        "from platform import python_version\n",
        "print(\"python version:\".ljust(25) + python_version())\n",
        "print(\"torch version:\".ljust(25) + torch.__version__)\n",
        "print(\"torchvision version:\".ljust(25) + torchvision.__version__)"
      ],
      "execution_count": 2,
      "outputs": [
        {
          "output_type": "stream",
          "text": [
            "python version:          3.6.8\n",
            "torch version:           1.1.0\n",
            "torchvision version:     0.3.0\n"
          ],
          "name": "stdout"
        }
      ]
    },
    {
      "cell_type": "code",
      "metadata": {
        "colab_type": "code",
        "id": "x9w2ph2LFEM2",
        "colab": {}
      },
      "source": [
        "# TODO: not sure I need it here\n",
        "from google.colab import files"
      ],
      "execution_count": 0,
      "outputs": []
    },
    {
      "cell_type": "code",
      "metadata": {
        "colab_type": "code",
        "id": "yCxjj52jlkv5",
        "colab": {}
      },
      "source": [
        "# random seed settings\n",
        "torch.manual_seed(42)\n",
        "np.random.seed(42)"
      ],
      "execution_count": 0,
      "outputs": []
    },
    {
      "cell_type": "markdown",
      "metadata": {
        "colab_type": "text",
        "id": "ZRnBcOudlkv8"
      },
      "source": [
        "###  Tensors"
      ]
    },
    {
      "cell_type": "markdown",
      "metadata": {
        "colab_type": "text",
        "id": "34t2aUsZlkv9"
      },
      "source": [
        "One of the main data type in pytorch is tensor.\n",
        "We will start with the concept of tensor and how it is used in pytorch\n",
        "\n",
        "![tensor](https://drive.google.com/uc?id=1LIthDTyj0tuz2VbewX7HGInseyFY-tpP)"
      ]
    },
    {
      "cell_type": "markdown",
      "metadata": {
        "colab_type": "text",
        "id": "41I0TEmRlkv-"
      },
      "source": [
        "#### Tensor Initialization"
      ]
    },
    {
      "cell_type": "code",
      "metadata": {
        "colab_type": "code",
        "id": "w63UyQFvlkv_",
        "outputId": "c7f162cd-5edf-481d-c5e5-3e7079f339e5",
        "colab": {
          "base_uri": "https://localhost:8080/",
          "height": 119
        }
      },
      "source": [
        "# 1d tensor of size 64 of type float (default)\n",
        "# (this tensor is initialized with default values close to zero)\n",
        "v = torch.empty(64)\n",
        "\n",
        "print(\" * the first 4 elements of 'v' are:\")\n",
        "print(v[:4]) # print the first four elements of the tensor\n",
        "\n",
        "# initialize with array [0,1,...,63]\n",
        "v = torch.arange(0,64)\n",
        "\n",
        "print(\" * the first 4 elements of 'v' are:\")\n",
        "print(v[:4]) # print the first four elements of the tensor\n",
        "\n",
        "print(\" * the size of the 'v' is \")\n",
        "print(v.size())"
      ],
      "execution_count": 5,
      "outputs": [
        {
          "output_type": "stream",
          "text": [
            " * the first 4 elements of 'v' are:\n",
            "tensor([4.4539e-37, 0.0000e+00, 2.8026e-45, 0.0000e+00])\n",
            " * the first 4 elements of 'v' are:\n",
            "tensor([0, 1, 2, 3])\n",
            " * the size of the 'v' is \n",
            "torch.Size([64])\n"
          ],
          "name": "stdout"
        }
      ]
    },
    {
      "cell_type": "code",
      "metadata": {
        "colab_type": "code",
        "id": "i_FCufMClkwE",
        "outputId": "c362ba15-49e4-4568-a68c-9cf6f42464ec",
        "colab": {
          "base_uri": "https://localhost:8080/",
          "height": 255
        }
      },
      "source": [
        "# 2d tensor of size 64 of type float\n",
        "x = torch.zeros(8, 8, dtype=torch.long)\n",
        "\n",
        "print(\" * the last 4 elements of 'x' are:\")\n",
        "print(x[:4,:4]) # print the last four elements of the tensor\n",
        "\n",
        "# initialize with array all ones\n",
        "x = torch.ones(8, 8, dtype=torch.float)\n",
        "\n",
        "print(\" * the last 4 elements of 'x' are:\")\n",
        "print(x[:4, :4]) # print the last four elements of the tensor\n",
        "\n",
        "print(\" * the size of the 'x' is \")\n",
        "print(x.size())\n",
        "\n",
        "print(\" * the size of the 'x' can also be obtained by familar from numpy 'shape' command\")\n",
        "print(x.shape)"
      ],
      "execution_count": 6,
      "outputs": [
        {
          "output_type": "stream",
          "text": [
            " * the last 4 elements of 'x' are:\n",
            "tensor([[0, 0, 0, 0],\n",
            "        [0, 0, 0, 0],\n",
            "        [0, 0, 0, 0],\n",
            "        [0, 0, 0, 0]])\n",
            " * the last 4 elements of 'x' are:\n",
            "tensor([[1., 1., 1., 1.],\n",
            "        [1., 1., 1., 1.],\n",
            "        [1., 1., 1., 1.],\n",
            "        [1., 1., 1., 1.]])\n",
            " * the size of the 'x' is \n",
            "torch.Size([8, 8])\n",
            " * the size of the 'x' can also be obtained by familar from numpy 'shape' command\n",
            "torch.Size([8, 8])\n"
          ],
          "name": "stdout"
        }
      ]
    },
    {
      "cell_type": "markdown",
      "metadata": {
        "colab_type": "text",
        "id": "yIxLwDqJlkwI"
      },
      "source": [
        "-----\n",
        "\n",
        " <font color=\"red\">**[PROBLEM I]:** </font> \n",
        "\n",
        " <font color=\"red\"> Initialize X </font>     \n",
        " <font color=\"red\"> 3d Tensor of size (4,4,4) </font>   \n",
        " <font color=\"red\"> of type int32 with all elements equal to 10 </font>   \n",
        "\n",
        "-----"
      ]
    },
    {
      "cell_type": "code",
      "metadata": {
        "colab_type": "code",
        "id": "IDKTCF-FlkwJ",
        "colab": {}
      },
      "source": [
        "# YOUR CODE HERE\n",
        "X = torch.empty(4,4,4, dtype=torch.int32).fill_(10)"
      ],
      "execution_count": 0,
      "outputs": []
    },
    {
      "cell_type": "code",
      "metadata": {
        "colab_type": "code",
        "id": "9PBunfBLlkwL",
        "outputId": "5bc103cd-2594-442a-fc8d-77736d003bbf",
        "colab": {
          "base_uri": "https://localhost:8080/",
          "height": 34
        }
      },
      "source": [
        "X.shape"
      ],
      "execution_count": 8,
      "outputs": [
        {
          "output_type": "execute_result",
          "data": {
            "text/plain": [
              "torch.Size([4, 4, 4])"
            ]
          },
          "metadata": {
            "tags": []
          },
          "execution_count": 8
        }
      ]
    },
    {
      "cell_type": "markdown",
      "metadata": {
        "colab_type": "text",
        "id": "V6lo7g0vlkwP"
      },
      "source": [
        "#### Reshaping, broadcasting"
      ]
    },
    {
      "cell_type": "markdown",
      "metadata": {
        "colab_type": "text",
        "id": "tvQ9VswXlkwQ"
      },
      "source": [
        "Tensor reshaping is done with command 'view':"
      ]
    },
    {
      "cell_type": "code",
      "metadata": {
        "colab_type": "code",
        "id": "9EZqQ4bolkwR",
        "outputId": "3aab852c-a5c2-45d1-99f8-ac877d633270",
        "colab": {
          "base_uri": "https://localhost:8080/",
          "height": 68
        }
      },
      "source": [
        "a = torch.tensor([[1,2], [3,4]])\n",
        "a_reshaped = a.view(4) # reshape into one-dimensional tensor of size 4\n",
        "\n",
        "print(a)\n",
        "print(a_reshaped)"
      ],
      "execution_count": 9,
      "outputs": [
        {
          "output_type": "stream",
          "text": [
            "tensor([[1, 2],\n",
            "        [3, 4]])\n",
            "tensor([1, 2, 3, 4])\n"
          ],
          "name": "stdout"
        }
      ]
    },
    {
      "cell_type": "markdown",
      "metadata": {
        "colab_type": "text",
        "id": "PbfinsFPlkwU"
      },
      "source": [
        "-----\n",
        "\n",
        " <font color=\"red\"> **[PROBLEM II]:** </font> \n",
        "\n",
        " <font color=\"red\"> Use command 'view' to reshape v and X into 2d tensor --> v' and X'. </font>  \n",
        "  <font color=\"red\">Also convet all tensors to type double </font>\n",
        " <font color=\"red\"> Perform addition of these reshaped tensors, namely calculate v' + X' + x </font>  \n",
        " <font color=\"red\"> Finally display the result. </font>\n",
        "\n",
        "-----"
      ]
    },
    {
      "cell_type": "code",
      "metadata": {
        "colab_type": "code",
        "id": "vAqMDyT7lkwV",
        "outputId": "b2cabf40-b90b-4eab-9a23-060399d160c9",
        "colab": {
          "base_uri": "https://localhost:8080/",
          "height": 153
        }
      },
      "source": [
        "# YOUR CODE HERE\n",
        "X.view(8,8).type(torch.double) + v.view(8,8).type(torch.double) + x.view(8,8).type(torch.double)"
      ],
      "execution_count": 10,
      "outputs": [
        {
          "output_type": "execute_result",
          "data": {
            "text/plain": [
              "tensor([[11., 12., 13., 14., 15., 16., 17., 18.],\n",
              "        [19., 20., 21., 22., 23., 24., 25., 26.],\n",
              "        [27., 28., 29., 30., 31., 32., 33., 34.],\n",
              "        [35., 36., 37., 38., 39., 40., 41., 42.],\n",
              "        [43., 44., 45., 46., 47., 48., 49., 50.],\n",
              "        [51., 52., 53., 54., 55., 56., 57., 58.],\n",
              "        [59., 60., 61., 62., 63., 64., 65., 66.],\n",
              "        [67., 68., 69., 70., 71., 72., 73., 74.]], dtype=torch.float64)"
            ]
          },
          "metadata": {
            "tags": []
          },
          "execution_count": 10
        }
      ]
    },
    {
      "cell_type": "markdown",
      "metadata": {
        "colab_type": "text",
        "id": "7MIoop_flkwY"
      },
      "source": [
        "### Operations on Tensors"
      ]
    },
    {
      "cell_type": "markdown",
      "metadata": {
        "colab_type": "text",
        "id": "ob2KRkFRRScX"
      },
      "source": [
        "relevant tutorial\n",
        "https://pytorch.org/tutorials/beginner/blitz/tensor_tutorial.html#operations"
      ]
    },
    {
      "cell_type": "markdown",
      "metadata": {
        "colab_type": "text",
        "id": "lo6Y9pB8lkwZ"
      },
      "source": [
        "There are multiple syntaxes for operations. Let us look for addition operation."
      ]
    },
    {
      "cell_type": "code",
      "metadata": {
        "colab_type": "code",
        "id": "zeUMQde7Rnyo",
        "colab": {}
      },
      "source": [
        "x = x[:4,:4]\n",
        "y = v.type(torch.float).view(8,8)[:4,:4]"
      ],
      "execution_count": 0,
      "outputs": []
    },
    {
      "cell_type": "code",
      "metadata": {
        "colab_type": "code",
        "id": "Jx9pgVR-RxfU",
        "outputId": "7888b30a-97be-4b6b-f0bb-dd1bbb31aab4",
        "colab": {
          "base_uri": "https://localhost:8080/",
          "height": 221
        }
      },
      "source": [
        "print(torch.add(x, y))\n",
        "print(x + y)\n",
        "result = torch.empty_like(x)\n",
        "torch.add(x, y, out=result)\n",
        "print(result)"
      ],
      "execution_count": 12,
      "outputs": [
        {
          "output_type": "stream",
          "text": [
            "tensor([[ 1.,  2.,  3.,  4.],\n",
            "        [ 9., 10., 11., 12.],\n",
            "        [17., 18., 19., 20.],\n",
            "        [25., 26., 27., 28.]])\n",
            "tensor([[ 1.,  2.,  3.,  4.],\n",
            "        [ 9., 10., 11., 12.],\n",
            "        [17., 18., 19., 20.],\n",
            "        [25., 26., 27., 28.]])\n",
            "tensor([[ 1.,  2.,  3.,  4.],\n",
            "        [ 9., 10., 11., 12.],\n",
            "        [17., 18., 19., 20.],\n",
            "        [25., 26., 27., 28.]])\n"
          ],
          "name": "stdout"
        }
      ]
    },
    {
      "cell_type": "markdown",
      "metadata": {
        "colab_type": "text",
        "id": "Mk9fcUnjS1lK"
      },
      "source": [
        "inplace addition"
      ]
    },
    {
      "cell_type": "code",
      "metadata": {
        "colab_type": "code",
        "id": "TBuUEX71Rxou",
        "outputId": "7700f6dc-7850-4294-8491-5428e6adfec4",
        "colab": {
          "base_uri": "https://localhost:8080/",
          "height": 153
        }
      },
      "source": [
        "print(x)\n",
        "x.add_(y)\n",
        "print(x)"
      ],
      "execution_count": 13,
      "outputs": [
        {
          "output_type": "stream",
          "text": [
            "tensor([[1., 1., 1., 1.],\n",
            "        [1., 1., 1., 1.],\n",
            "        [1., 1., 1., 1.],\n",
            "        [1., 1., 1., 1.]])\n",
            "tensor([[ 1.,  2.,  3.,  4.],\n",
            "        [ 9., 10., 11., 12.],\n",
            "        [17., 18., 19., 20.],\n",
            "        [25., 26., 27., 28.]])\n"
          ],
          "name": "stdout"
        }
      ]
    },
    {
      "cell_type": "markdown",
      "metadata": {
        "colab_type": "text",
        "id": "tJdssKMxlkwe"
      },
      "source": [
        "### Numpy bridge"
      ]
    },
    {
      "cell_type": "code",
      "metadata": {
        "colab_type": "code",
        "id": "88VK_9Jylkwe",
        "outputId": "502d08b4-d4be-4002-f6db-706203a27f7e",
        "colab": {
          "base_uri": "https://localhost:8080/",
          "height": 119
        }
      },
      "source": [
        "# create numpy array\n",
        "a = np.array([[1,2], [3,4]])\n",
        "# transform numpy array into torch.Tensor\n",
        "b = torch.from_numpy(a)\n",
        "# make operation on this Tensor (in this case transpose)\n",
        "b = b.transpose(1,0)\n",
        "# transform back to numpy\n",
        "c = b.numpy()                \n",
        "\n",
        "print(a, type(a))\n",
        "print(b, type(b))\n",
        "print(c, type(c))"
      ],
      "execution_count": 14,
      "outputs": [
        {
          "output_type": "stream",
          "text": [
            "[[1 2]\n",
            " [3 4]] <class 'numpy.ndarray'>\n",
            "tensor([[1, 3],\n",
            "        [2, 4]]) <class 'torch.Tensor'>\n",
            "[[1 3]\n",
            " [2 4]] <class 'numpy.ndarray'>\n"
          ],
          "name": "stdout"
        }
      ]
    },
    {
      "cell_type": "markdown",
      "metadata": {
        "colab_type": "text",
        "id": "b16o5QKFlkwi"
      },
      "source": [
        "-----\n",
        "\n",
        " <font color=\"red\"> **[PROBLEM III]:** </font> "
      ]
    },
    {
      "cell_type": "code",
      "metadata": {
        "colab_type": "code",
        "id": "TC2oFY8llkwj",
        "colab": {}
      },
      "source": [
        "# using these two random matrices do the following:\n",
        "x = np.random.randn(3, 10)\n",
        "y = np.random.randn(4, 10)"
      ],
      "execution_count": 0,
      "outputs": []
    },
    {
      "cell_type": "markdown",
      "metadata": {
        "colab_type": "text",
        "id": "_cE4jEhBlkwm"
      },
      "source": [
        "<span style=\"color:red\"> Do the following: </span>\n",
        "* <span style=\"color:red\">transform $\\mathbf{x}$ and $\\mathbf{y}$ to torch.Tensors</span>\n",
        "* <span style=\"color:red\">perform matrix mutliplication $\\mathbf{r1} = \\mathbf{x} \\cdot \\mathbf{y^T} $</span>  \n",
        "<span style=\"color:blue\"> look in for pytorch function http://pytorch.org/docs/master/torch.html#torch.mm </span>  \n",
        "* <span style=\"color:red\">perform matrix element-wise mutliplication $\\mathbf{r2} = \\mathbf{r1} \\cdot \\mathbf{r1} $</span>  \n",
        "<span style=\"color:blue\"> look in for pytorch function http://pytorch.org/docs/master/torch.html#torch.mul </span> \n",
        "* <span style=\"color:red\">perform scalar addition and scalar multiplication $\\mathbf{r3} = 2 * \\mathbf{r2} + 3 $</span>  \n",
        "* <span style=\"color:red\">transform the result back to numpy </span>\n",
        "\n",
        "-----"
      ]
    },
    {
      "cell_type": "code",
      "metadata": {
        "colab_type": "code",
        "id": "aWDAtz54lkwn",
        "outputId": "66431515-9560-4d22-bfa6-bf79cc415562",
        "colab": {
          "base_uri": "https://localhost:8080/",
          "height": 68
        }
      },
      "source": [
        "# YOUR CODE HERE\n",
        "xt = torch.from_numpy(x)\n",
        "yt = torch.from_numpy(y)\n",
        "\n",
        "r1 = xt.mm(yt.transpose(0,1))\n",
        "r2 = r1*r1\n",
        "r3 = 2*r2+3\n",
        "\n",
        "r3.numpy()\n"
      ],
      "execution_count": 16,
      "outputs": [
        {
          "output_type": "execute_result",
          "data": {
            "text/plain": [
              "array([[15.75251238,  4.00731333,  4.7705989 , 22.49291184],\n",
              "       [ 4.29568683, 76.39517546, 44.09112074,  5.5827972 ],\n",
              "       [ 3.75285596, 26.46251526,  3.39959147,  5.45615519]])"
            ]
          },
          "metadata": {
            "tags": []
          },
          "execution_count": 16
        }
      ]
    },
    {
      "cell_type": "markdown",
      "metadata": {
        "colab_type": "text",
        "id": "U_VqL45Blkws"
      },
      "source": [
        "### CUDA stuff"
      ]
    },
    {
      "cell_type": "markdown",
      "metadata": {
        "colab_type": "text",
        "id": "pcPi-hOSlkwt"
      },
      "source": [
        "let us run on CUDA! ... if CUDA is available\n",
        "\n",
        "We will use ``torch.device`` objects to move tensors in and out of GPU"
      ]
    },
    {
      "cell_type": "code",
      "metadata": {
        "colab_type": "code",
        "id": "BD0YYuiMOgkv",
        "outputId": "84c1e30e-f34a-43f7-97b9-40ebf3789ad5",
        "colab": {
          "base_uri": "https://localhost:8080/",
          "height": 34
        }
      },
      "source": [
        "torch.cuda.is_available()"
      ],
      "execution_count": 17,
      "outputs": [
        {
          "output_type": "execute_result",
          "data": {
            "text/plain": [
              "True"
            ]
          },
          "metadata": {
            "tags": []
          },
          "execution_count": 17
        }
      ]
    },
    {
      "cell_type": "code",
      "metadata": {
        "colab_type": "code",
        "id": "EwUaC4nXlkwv",
        "outputId": "5d117871-7600-4863-f1b0-4fe071a8267d",
        "colab": {
          "base_uri": "https://localhost:8080/",
          "height": 221
        }
      },
      "source": [
        "x = torch.from_numpy(x)\n",
        "if torch.cuda.is_available():\n",
        "    y = torch.ones_like(x, device=\"cuda\")  # directly create a tensor on GPU\n",
        "    x = x.to(\"cuda\")                       # or just use strings ``.to(\"cuda\")``\n",
        "    z = x + y\n",
        "    print(z)\n",
        "    print(z.to(\"cpu\", torch.double))       # ``.to`` can also change dtype together!"
      ],
      "execution_count": 18,
      "outputs": [
        {
          "output_type": "stream",
          "text": [
            "tensor([[ 1.4967,  0.8617,  1.6477,  2.5230,  0.7658,  0.7659,  2.5792,  1.7674,\n",
            "          0.5305,  1.5426],\n",
            "        [ 0.5366,  0.5343,  1.2420, -0.9133, -0.7249,  0.4377, -0.0128,  1.3142,\n",
            "          0.0920, -0.4123],\n",
            "        [ 2.4656,  0.7742,  1.0675, -0.4247,  0.4556,  1.1109, -0.1510,  1.3757,\n",
            "          0.3994,  0.7083]], device='cuda:0', dtype=torch.float64)\n",
            "tensor([[ 1.4967,  0.8617,  1.6477,  2.5230,  0.7658,  0.7659,  2.5792,  1.7674,\n",
            "          0.5305,  1.5426],\n",
            "        [ 0.5366,  0.5343,  1.2420, -0.9133, -0.7249,  0.4377, -0.0128,  1.3142,\n",
            "          0.0920, -0.4123],\n",
            "        [ 2.4656,  0.7742,  1.0675, -0.4247,  0.4556,  1.1109, -0.1510,  1.3757,\n",
            "          0.3994,  0.7083]], dtype=torch.float64)\n"
          ],
          "name": "stdout"
        }
      ]
    },
    {
      "cell_type": "markdown",
      "metadata": {
        "colab_type": "text",
        "id": "nHxHgvOfRFCA"
      },
      "source": [
        "###  Autograd: automatic differentiation"
      ]
    },
    {
      "cell_type": "markdown",
      "metadata": {
        "colab_type": "text",
        "id": "wux_2jqxRBs0"
      },
      "source": [
        "relevant tutorial\n",
        "https://pytorch.org/tutorials/beginner/blitz/autograd_tutorial.html#sphx-glr-beginner-blitz-autograd-tutorial-py\n"
      ]
    },
    {
      "cell_type": "markdown",
      "metadata": {
        "colab_type": "text",
        "id": "4FZyAlm2lkw0"
      },
      "source": [
        "*torch.Tensor* is the central class of the package. If you set its attribute *.requires_grad* as True, it starts to track all operations on it. When you finish your computation you can call *.backward()* and have all the gradients computed automatically. The gradient for this tensor will be accumulated into .grad attribute. "
      ]
    },
    {
      "cell_type": "markdown",
      "metadata": {
        "colab_type": "text",
        "id": "3XsvhS5-lkw1"
      },
      "source": [
        "**use of autograd**\n",
        "\n",
        "Lets start with simple example.\n",
        "Consider the following function:\n",
        "$$f = (x + y) \\cdot z$$\n",
        "\n",
        "For concretness let's take $x=2$, $y=-7$, $z=3$. The 'forward' calculation is shown in <span style=\"color:green\"> green </span> on the image below.\n",
        "\n",
        "Automaic differentiation provides the elegant tool to calculate derivatives of $f$ with respect to all variables, by 'backward' path.\n",
        "\n",
        "$$f = (x + y) \\cdot z = u \\cdot z $$\n",
        "\n",
        "$$ \\frac{\\partial f}{\\partial u} = z $$\n",
        "\n",
        "$$ \\frac{\\partial f}{\\partial z} = u = -5 $$\n",
        "\n",
        "$$ \\frac{\\partial f}{\\partial x} = \\frac{\\partial f}{\\partial u} \\cdot \\frac{\\partial u}{\\partial x} = z = 3$$\n",
        "\n",
        "$$ \\frac{\\partial f}{\\partial y} = \\frac{\\partial f}{\\partial u} \\cdot \\frac{\\partial u}{\\partial y} = z = 3$$\n",
        "\n",
        "![comp_graph_1](https://drive.google.com/uc?id=1jTDQCsT5jDmiIfK2Ay1n1MlCDNS8swYf)"
      ]
    },
    {
      "cell_type": "code",
      "metadata": {
        "colab_type": "code",
        "id": "rWdfj0DYlkw2",
        "outputId": "055c495d-8069-42a4-a6a6-41607cf0aa46",
        "colab": {
          "base_uri": "https://localhost:8080/",
          "height": 68
        }
      },
      "source": [
        "# Create tensors.\n",
        "# ('requires_grad' is False by default)\n",
        "x = torch.tensor([2.], requires_grad=True)\n",
        "y = torch.tensor([-7.], requires_grad=True)\n",
        "z = torch.tensor([3.], requires_grad=True)\n",
        "\n",
        "# Build a computational graph.\n",
        "f = (x + y) * z   \n",
        "\n",
        "# Compute gradients.\n",
        "f.backward()\n",
        "\n",
        "# Print out the gradients.\n",
        "print(x.grad)    \n",
        "print(y.grad)    \n",
        "print(z.grad) "
      ],
      "execution_count": 19,
      "outputs": [
        {
          "output_type": "stream",
          "text": [
            "tensor([3.])\n",
            "tensor([3.])\n",
            "tensor([-5.])\n"
          ],
          "name": "stdout"
        }
      ]
    },
    {
      "cell_type": "markdown",
      "metadata": {
        "colab_type": "text",
        "id": "fO2yZn6flkw5"
      },
      "source": [
        " <font color=\"red\">  **[PROBLEM IV]**: </font> \n",
        "\n",
        " Next we will consider the computational graph of the following function \n",
        "\n",
        "$$f = \\frac{1}{1 + exp^{-(w_0 \\cdot x_0 + w_1 \\cdot x_1 + b )}} = \\frac{1}{1 + exp^{-(\\mathbf{w} \\cdot \\mathbf{x} + b )}}$$\n",
        "\n",
        "\n",
        "![comp_graph_2](https://drive.google.com/uc?id=1YcYQ5KEp7ZCiXR_Pzr9JYI-4t5wWV4ll)\n",
        "\n",
        " We are interested in computing partial derivatives: \n",
        "\n",
        "$$ \\frac{\\partial f}{\\partial \\mathbf{w}}  $$ \n",
        "\n",
        "$$ \\frac{\\partial f}{\\partial b}  $$ \n",
        "\n",
        "$$ \\frac{\\partial f}{\\partial \\mathbf{x}}  $$ \n",
        "\n",
        "define $\\{x_0, x_1\\}$ and $\\{w_0, w_1\\}$ as vector variables $\\mathbf{x}$ and $\\mathbf{w}$\n",
        "look in for pytorch exponent function http://pytorch.org/docs/master/torch.html#torch.exp \n",
        "use matrix operations\n",
        "\n",
        "You should get the numbers the same as on the figure"
      ]
    },
    {
      "cell_type": "code",
      "metadata": {
        "colab_type": "code",
        "id": "vDpuQUuOlkw6",
        "outputId": "2ca96bc4-78a9-46cc-d6c4-a0f5b4cd005d",
        "colab": {
          "base_uri": "https://localhost:8080/",
          "height": 68
        }
      },
      "source": [
        "w = torch.tensor([3., 5.], requires_grad=True)\n",
        "x = torch.tensor([-2., 1.], requires_grad=True)\n",
        "b = torch.tensor([2.], requires_grad=True)\n",
        "\n",
        "f = 1 / ( 1 + torch.exp( w.view(1,2).mm(x.view(2,1)).add(b) ) )\n",
        "\n",
        "f.backward()\n",
        "\n",
        "\n",
        "# Print out the gradients.\n",
        "print(w.grad)\n",
        "print(x.grad)      \n",
        "print(b.grad) "
      ],
      "execution_count": 20,
      "outputs": [
        {
          "output_type": "stream",
          "text": [
            "tensor([ 0.3932, -0.1966])\n",
            "tensor([-0.5898, -0.9831])\n",
            "tensor([-0.1966])\n"
          ],
          "name": "stdout"
        }
      ]
    },
    {
      "cell_type": "code",
      "metadata": {
        "id": "OT985q9lOHu8",
        "colab_type": "code",
        "colab": {}
      },
      "source": [
        "\n"
      ],
      "execution_count": 0,
      "outputs": []
    },
    {
      "cell_type": "markdown",
      "metadata": {
        "colab_type": "text",
        "id": "nH64V6yslkxG"
      },
      "source": [
        "One can make gradient zero by *.zero_()* command"
      ]
    },
    {
      "cell_type": "code",
      "metadata": {
        "colab_type": "code",
        "id": "Oc4EG1iglkxG",
        "outputId": "4bcbc71f-495b-4f01-9c67-7f4c95e19f32",
        "colab": {
          "base_uri": "https://localhost:8080/",
          "height": 34
        }
      },
      "source": [
        "w.grad.zero_()\n",
        "print(w.grad)"
      ],
      "execution_count": 21,
      "outputs": [
        {
          "output_type": "stream",
          "text": [
            "tensor([0., 0.])\n"
          ],
          "name": "stdout"
        }
      ]
    },
    {
      "cell_type": "code",
      "metadata": {
        "colab_type": "code",
        "id": "QMRhrhwGNuRs",
        "colab": {}
      },
      "source": [
        ""
      ],
      "execution_count": 0,
      "outputs": []
    }
  ]
}